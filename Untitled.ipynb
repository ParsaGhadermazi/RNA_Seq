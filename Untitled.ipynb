{
 "cells": [
  {
   "cell_type": "code",
   "execution_count": 1,
   "id": "608990e5",
   "metadata": {},
   "outputs": [],
   "source": [
    "import pandas as pd"
   ]
  },
  {
   "cell_type": "code",
   "execution_count": 3,
   "id": "bfb2f3b7",
   "metadata": {},
   "outputs": [],
   "source": [
    "sra_table=pd.read_table(\"SRA_Metadata.txt\",delimiter=\",\")"
   ]
  },
  {
   "cell_type": "code",
   "execution_count": 5,
   "id": "b0961ae8",
   "metadata": {},
   "outputs": [],
   "source": [
    "metadata=pd.DataFrame(columns=[\"Read 1\",\"Read 2\",\"Sample_Name\",\"Time\",\"replicate\"])"
   ]
  },
  {
   "cell_type": "code",
   "execution_count": 9,
   "id": "06a37bd4",
   "metadata": {},
   "outputs": [],
   "source": [
    "metadata[\"sample_name\"]=sra_table[\"Sample Name\"]"
   ]
  },
  {
   "cell_type": "code",
   "execution_count": 15,
   "id": "88dd2edc",
   "metadata": {},
   "outputs": [],
   "source": [
    "metadata[\"replicate\"]=[rep for sample,rep in metadata[\"sample_name\"].str.split(\"-\")]"
   ]
  },
  {
   "cell_type": "code",
   "execution_count": 19,
   "id": "d8274790",
   "metadata": {},
   "outputs": [],
   "source": [
    "metadata[\"time\"]=metadata[\"sample_name\"].str.extract('(\\d+)')"
   ]
  },
  {
   "cell_type": "code",
   "execution_count": 37,
   "id": "e485e14f",
   "metadata": {},
   "outputs": [],
   "source": [
    "metadata[\"read 1\"],metadata[\"read 2\"]=[sra_table['Run']+\"_1.fastq\",sra_table['Run']+\"_2.fastq\"]"
   ]
  },
  {
   "cell_type": "code",
   "execution_count": 39,
   "id": "154cdc35",
   "metadata": {},
   "outputs": [],
   "source": [
    "metadata.to_csv(\"metadata.tsv\",sep=\"\\t\")"
   ]
  },
  {
   "cell_type": "code",
   "execution_count": null,
   "id": "88f843dd",
   "metadata": {},
   "outputs": [],
   "source": []
  }
 ],
 "metadata": {
  "kernelspec": {
   "display_name": "Python 3 (ipykernel)",
   "language": "python",
   "name": "python3"
  },
  "language_info": {
   "codemirror_mode": {
    "name": "ipython",
    "version": 3
   },
   "file_extension": ".py",
   "mimetype": "text/x-python",
   "name": "python",
   "nbconvert_exporter": "python",
   "pygments_lexer": "ipython3",
   "version": "3.9.7"
  }
 },
 "nbformat": 4,
 "nbformat_minor": 5
}
