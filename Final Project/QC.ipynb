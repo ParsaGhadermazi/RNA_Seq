{
 "cells": [
  {
   "cell_type": "markdown",
   "id": "d9bd6b96",
   "metadata": {},
   "source": [
    "# Quality check results\n",
    "\n",
    "## 1- Loading the data from all samples"
   ]
  },
  {
   "cell_type": "code",
   "execution_count": 24,
   "id": "2ad70322",
   "metadata": {},
   "outputs": [],
   "source": [
    "from pathlib import Path\n",
    "import json\n",
    "import pandas as pd"
   ]
  },
  {
   "cell_type": "code",
   "execution_count": 11,
   "id": "1dc98fe0",
   "metadata": {},
   "outputs": [],
   "source": [
    "fastp=Path(\"01_fastp\")"
   ]
  },
  {
   "cell_type": "code",
   "execution_count": 12,
   "id": "7a50287b",
   "metadata": {},
   "outputs": [],
   "source": [
    "fastp_outputs={}\n",
    "for p in fastp.rglob(\"**/*.json\"):\n",
    "    with open(p) as f:\n",
    "        fastp_outputs[p.name.split(\"_\")[0]]=json.load(f)"
   ]
  },
  {
   "cell_type": "code",
   "execution_count": 18,
   "id": "ed222fb9",
   "metadata": {},
   "outputs": [],
   "source": [
    "samples=sorted(fastp_outputs.keys(),key=lambda x:int(x[3:]))"
   ]
  },
  {
   "cell_type": "markdown",
   "id": "f031cdf9",
   "metadata": {},
   "source": [
    "## 2- Build a data frame for summerizing all the samples\n",
    "\n",
    "creating a table that summerizes important information about all samples"
   ]
  },
  {
   "cell_type": "code",
   "execution_count": 54,
   "id": "a820238a",
   "metadata": {},
   "outputs": [],
   "source": [
    "\n",
    "general_summary={\n",
    "    \"Sample\":[],\n",
    "    \"Mean read 1 length before filtering\":[],\n",
    "    \"Mean read 1 length after filtering\" : [],\n",
    "    \"Mean read 2 length before filtering\":[],\n",
    "    \"Mean read 2 length after filtering\" : [],\n",
    "    \"Duplication rate\": [],\n",
    "    \"Q20 bases before filtering\":[],\n",
    "    \"Q20 bases after filtering\":[],\n",
    "    \"Q30 bases before filtering\":[],\n",
    "    \"Q30 bases after filtering\":[],\n",
    "    \n",
    "\n",
    "    \"total reads before filtering\":[],\n",
    "    \"total reads after filtering\":[],\n",
    "    \"reads with low quality\":[],\n",
    "    \"reads with too many N\" :[],\n",
    "    \"reads too short\" : [],\n",
    "    \"read 1 adapter\":[],\n",
    "    \"read 2 adapter\":[],\n",
    "    \n",
    "}\n",
    "\n",
    "for sample in samples:\n",
    "    general_summary[\"Sample\"].append(sample)\n",
    "    general_summary[\"Mean read 1 length before filtering\"].append(fastp_outputs[sample]['summary']['before_filtering']['read1_mean_length'])\n",
    "    general_summary[\"Mean read 1 length after filtering\"].append(fastp_outputs[sample]['summary']['after_filtering']['read2_mean_length'])\n",
    "    general_summary[\"Mean read 2 length before filtering\"].append(fastp_outputs[sample]['summary']['before_filtering']['read1_mean_length'])\n",
    "    general_summary[\"Mean read 2 length after filtering\"].append(fastp_outputs[sample]['summary']['after_filtering']['read1_mean_length'])\n",
    "    general_summary[\"Duplication rate\"].append(fastp_outputs[sample]['duplication']['rate'])\n",
    "    general_summary[\"Q20 bases before filtering\"].append(fastp_outputs[sample]['summary']['before_filtering']['q20_rate'])\n",
    "    general_summary[\"Q20 bases after filtering\"].append(fastp_outputs[sample]['summary']['after_filtering']['q20_rate'])\n",
    "    general_summary[\"Q30 bases before filtering\"].append(fastp_outputs[sample]['summary']['before_filtering']['q30_rate'])\n",
    "    general_summary[\"Q30 bases after filtering\"].append(fastp_outputs[sample]['summary']['after_filtering']['q30_rate'])\n",
    "    general_summary[\"read 1 adapter\"].append(fastp_outputs[sample]['adapter_cutting']['read1_adapter_sequence'])\n",
    "    general_summary[\"read 2 adapter\"].append(fastp_outputs[sample]['adapter_cutting']['read2_adapter_sequence'])\n",
    "    general_summary[\"total reads before filtering\"].append(fastp_outputs[sample]['summary']['before_filtering']['total_reads'])\n",
    "    general_summary[\"total reads after filtering\"].append(fastp_outputs[sample]['summary']['after_filtering']['total_reads'])\n",
    "    general_summary[\"reads with low quality\"].append(fastp_outputs[sample]['filtering_result'][\"low_quality_reads\"])\n",
    "    general_summary[\"reads with too many N\"].append(fastp_outputs[sample]['filtering_result'][\"too_many_N_reads\"]) \n",
    "    general_summary[\"reads too short\"].append(fastp_outputs[sample]['filtering_result']['too_short_reads']) \n",
    "\n",
    "                                    \n",
    "general_summary=pd.DataFrame(general_summary).set_index([\"Sample\"])"
   ]
  },
  {
   "cell_type": "code",
   "execution_count": 215,
   "id": "7a637c33",
   "metadata": {},
   "outputs": [],
   "source": [
    "general_summary.to_csv(\"Tabulated_summary.csv\")"
   ]
  },
  {
   "cell_type": "code",
   "execution_count": 219,
   "id": "b60d88b3",
   "metadata": {},
   "outputs": [],
   "source": [
    "import plotly.graph_objects as go\n",
    "import plotly.express as px\n",
    "import numpy as np\n",
    "\n",
    "fig = go.Figure(\n",
    "    layout=go.Layout(\n",
    "        height=500,\n",
    "        width=1000,\n",
    "        font=dict(size=12),\n",
    "#         legend_x=1,\n",
    "#         legend_y=1,\n",
    "#         legend_orientation=\"h\",\n",
    "        hovermode=\"x\",\n",
    "        margin=dict(b=0,t=50,l=0,r=10)\n",
    "    ,title={\"text\":\"Quality check for all the samples before and after filtering \",\n",
    "           \"x\":0.5})\n",
    "    \n",
    ")\n",
    "\n",
    "colors = {\n",
    "    \"before_filtering\": {\n",
    "        \"Q20\": px.colors.qualitative.Dark2[2],\n",
    "        \"Q30\": px.colors.qualitative.Set2[2],\n",
    "    },\n",
    "    \n",
    "    \"after_filtering\": {\n",
    "        \"Q20\": px.colors.qualitative.Dark2[4],\n",
    "        \"Q30\": px.colors.qualitative.Set2[4],\n",
    "    }\n",
    "}\n",
    "\n",
    "\n",
    "for i, t in enumerate(colors):\n",
    "    for j,q in enumerate([\"Q20\",\"Q30\"]):\n",
    "        fig.add_bar(\n",
    "                x=np.array(range(1,len(samples)+1)) ,\n",
    "                y=[fastp_outputs[sample]['summary'][t][f\"{q.lower()}_bases\"] for sample in samples],\n",
    "\n",
    "                offsetgroup=str(i),\n",
    "                offset=i-0.4-0.01 if i==0 else 0+0.01,\n",
    "                width=0.4,\n",
    "                legendgroup=t+q,\n",
    "                showlegend=True ,\n",
    "                name= t+\":\"+q,\n",
    "                marker_color=colors[t][q],\n",
    "                hovertemplate=\"%{y}<extra></extra>\"\n",
    "        )\n",
    "for x_ind,sample in enumerate(samples):\n",
    "    for i in range(2):\n",
    "        fig.add_scatter(\n",
    "            x=[x_ind+1-0.39,x_ind+0.99] if i==0 else [x_ind+1.01,x_ind+1+0.41],\n",
    "            y=[fastp_outputs[sample]['summary']['before_filtering']['total_bases'],fastp_outputs[sample]['summary']['before_filtering']['total_bases']] if i==0 else [fastp_outputs[sample]['summary']['after_filtering']['total_bases'],fastp_outputs[sample]['summary']['after_filtering']['total_bases']], \n",
    "            mode='markers+lines',\n",
    "            marker={\"color\":\"rgb(120,120,120)\",\n",
    "                    \"symbol\":42,\n",
    "                    \"size\":2,\n",
    "                   \"line_width\":1},\n",
    "            showlegend=True if x_ind==0 and i==0 else False,\n",
    "            name=\"Totall bases\"\n",
    "        \n",
    "        \n",
    "        )\n",
    "\n",
    "\n",
    "fig.update_yaxes(title_text='Number of Bases',)\n",
    "fig.update_xaxes(title=\"Samples\",tickmode='array',tickvals = list(range(1,13)),ticktext=samples)\n",
    "\n",
    "fig.write_image(\"QC_plot.svg\")"
   ]
  },
  {
   "cell_type": "code",
   "execution_count": null,
   "id": "1fd8b79e",
   "metadata": {},
   "outputs": [],
   "source": []
  }
 ],
 "metadata": {
  "kernelspec": {
   "display_name": "Python 3 (ipykernel)",
   "language": "python",
   "name": "python3"
  },
  "language_info": {
   "codemirror_mode": {
    "name": "ipython",
    "version": 3
   },
   "file_extension": ".py",
   "mimetype": "text/x-python",
   "name": "python",
   "nbconvert_exporter": "python",
   "pygments_lexer": "ipython3",
   "version": "3.9.7"
  }
 },
 "nbformat": 4,
 "nbformat_minor": 5
}
