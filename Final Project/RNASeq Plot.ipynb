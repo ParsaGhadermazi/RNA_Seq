{
 "cells": [
  {
   "cell_type": "code",
   "execution_count": 1,
   "id": "78d1baf3",
   "metadata": {},
   "outputs": [],
   "source": [
    "import pandas as pd "
   ]
  },
  {
   "cell_type": "code",
   "execution_count": 2,
   "id": "8ad7c394",
   "metadata": {},
   "outputs": [],
   "source": [
    "df=pd.read_table(\"Final_results.csv\",sep=\",\")"
   ]
  },
  {
   "cell_type": "code",
   "execution_count": 3,
   "id": "8e203ae9",
   "metadata": {},
   "outputs": [],
   "source": [
    "df.set_index(df.columns[0],inplace=True)"
   ]
  },
  {
   "cell_type": "code",
   "execution_count": 4,
   "id": "6c591a76",
   "metadata": {},
   "outputs": [],
   "source": [
    "df=df[df[\"log2FoldChange\"].abs()>0.5].sort_values(by=\"log2FoldChange\")"
   ]
  },
  {
   "cell_type": "code",
   "execution_count": 5,
   "id": "49cf6a02",
   "metadata": {},
   "outputs": [],
   "source": [
    "info=[]\n",
    "with open(\"Saccharomyces_cerevisiae.R64-1-1.cds.all.fa\",'r') as f:\n",
    "    for line in f:\n",
    "        if line.startswith(\">\"):\n",
    "            info.append(line)\n",
    "    \n"
   ]
  },
  {
   "cell_type": "code",
   "execution_count": 6,
   "id": "72530696",
   "metadata": {},
   "outputs": [],
   "source": [
    "info_dict={}\n",
    "for i in info:\n",
    "    info_dict[i.split(\"_\")[0].lstrip(\">\")]=i\n",
    "    "
   ]
  },
  {
   "cell_type": "code",
   "execution_count": 7,
   "id": "bbfc0707",
   "metadata": {},
   "outputs": [
    {
     "data": {
      "text/plain": [
       "'>YLR252W_mRNA cds chromosome:R64-1-1:XII:641957:642262:1 gene:YLR252W gene_biotype:protein_coding transcript_biotype:protein_coding description:Dubious open reading frame; unlikely to encode a functional protein, based on available experimental and comparative sequence data; partially overlaps the verified gene SYM1, a mitochondrial protein involved in ethanol metabolism [Source:SGD;Acc:S000004242]\\n'"
      ]
     },
     "execution_count": 7,
     "metadata": {},
     "output_type": "execute_result"
    }
   ],
   "source": [
    "info_dict[\"YLR252W\"]\n"
   ]
  },
  {
   "cell_type": "code",
   "execution_count": 8,
   "id": "e0ad17b8",
   "metadata": {},
   "outputs": [
    {
     "data": {
      "text/plain": [
       "baseMean          70731.611992\n",
       "log2FoldChange        0.984430\n",
       "lfcSE                 0.129885\n",
       "svalue                0.000005\n",
       "Name: YOL086C, dtype: float64"
      ]
     },
     "execution_count": 8,
     "metadata": {},
     "output_type": "execute_result"
    }
   ],
   "source": [
    "df.loc[\"YOL086C\"]"
   ]
  },
  {
   "cell_type": "code",
   "execution_count": 9,
   "id": "a7eb15f5",
   "metadata": {},
   "outputs": [],
   "source": [
    "related_to_ethanol=[\"YIL146C\",\"YGR142W\",\"YNR070W\",\"YGR087C\",\"YOL086C\"]\n",
    "related_to_acetate=[\"YOR377W\",\"YPL061W\",\"YJR095W\",\"YBL015W\",\"YER073W\"]"
   ]
  },
  {
   "cell_type": "code",
   "execution_count": 10,
   "id": "8f10b1aa",
   "metadata": {},
   "outputs": [],
   "source": [
    "counts=pd.read_table(\"counts_cleaned.csv\",delimiter=\",\")"
   ]
  },
  {
   "cell_type": "code",
   "execution_count": 11,
   "id": "25037a76",
   "metadata": {},
   "outputs": [],
   "source": [
    "counts.set_index(counts.columns[0],inplace=True)"
   ]
  },
  {
   "cell_type": "code",
   "execution_count": 12,
   "id": "77d617d9",
   "metadata": {},
   "outputs": [],
   "source": [
    "import plotly.graph_objects as go\n",
    "import numpy as np\n"
   ]
  },
  {
   "cell_type": "code",
   "execution_count": null,
   "id": "0631109c",
   "metadata": {},
   "outputs": [],
   "source": []
  },
  {
   "cell_type": "code",
   "execution_count": 13,
   "id": "517e1e21",
   "metadata": {},
   "outputs": [],
   "source": [
    "controls=[]\n",
    "acetate=[]\n",
    "for i in counts.columns:\n",
    "    if \"AC\" in i:\n",
    "        acetate.append(i)\n",
    "    else:\n",
    "        controls.append(i)\n",
    "        \n",
    "pallete=['rgb(150,150,150)','rgb(77,175,74)','rgb(55,126,184)','rgb(152,78,163)']\n",
    "pallete_out=['rgb(150,150,150)','rgb(77,175,74)','rgb(55,126,184)','rgb(152,78,163)']"
   ]
  },
  {
   "cell_type": "code",
   "execution_count": 27,
   "id": "7c7f5acf",
   "metadata": {},
   "outputs": [
    {
     "data": {
      "application/vnd.plotly.v1+json": {
       "config": {
        "plotlyServerURL": "https://plot.ly"
       },
       "data": [
        {
         "boxpoints": "all",
         "jitter": 0,
         "legendgroup": "Control",
         "marker": {
          "color": "#636EFA",
          "size": 7
         },
         "name": "Control",
         "pointpos": 0,
         "showlegend": true,
         "type": "box",
         "xaxis": "x",
         "y": [
          591.871512985166,
          554.240726951769,
          578.993645842232,
          572.489698050744,
          475.892758497633,
          449.664699211854
         ],
         "yaxis": "y"
        },
        {
         "boxpoints": "all",
         "jitter": 0,
         "legendgroup": "Acetate",
         "marker": {
          "color": "#EF553B",
          "size": 7
         },
         "name": "Acetate",
         "pointpos": 0,
         "showlegend": true,
         "type": "box",
         "xaxis": "x",
         "y": [
          244.97652311542,
          206.957886802223,
          251.654784265529,
          234.301580267176,
          221.621740031953,
          239.632206659519
         ],
         "yaxis": "y"
        },
        {
         "boxpoints": "all",
         "jitter": 0,
         "legendgroup": "Control",
         "marker": {
          "color": "#636EFA",
          "size": 7
         },
         "name": "Control",
         "pointpos": 0,
         "showlegend": false,
         "type": "box",
         "xaxis": "x2",
         "y": [
          1736.0921740819,
          2045.39081891277,
          4059.42472364246,
          3634.70055102856,
          2220.83287298895,
          2380.9948374934
         ],
         "yaxis": "y2"
        },
        {
         "boxpoints": "all",
         "jitter": 0,
         "legendgroup": "Acetate",
         "marker": {
          "color": "#EF553B",
          "size": 7
         },
         "name": "Acetate",
         "pointpos": 0,
         "showlegend": false,
         "type": "box",
         "xaxis": "x2",
         "y": [
          11832.5928965888,
          11859.3845246218,
          12356.7634886298,
          11567.3212600371,
          13265.7893838392,
          13917.447939752
         ],
         "yaxis": "y2"
        },
        {
         "boxpoints": "all",
         "jitter": 0,
         "legendgroup": "Control",
         "marker": {
          "color": "#636EFA",
          "size": 7
         },
         "name": "Control",
         "pointpos": 0,
         "showlegend": false,
         "type": "box",
         "xaxis": "x3",
         "y": [
          14.4594017830252,
          17.9656637585663,
          4.31280183122705,
          6.09031593671005,
          7.33553384967449,
          12.1530999786987
         ],
         "yaxis": "y3"
        },
        {
         "boxpoints": "all",
         "jitter": 0,
         "legendgroup": "Acetate",
         "marker": {
          "color": "#EF553B",
          "size": 7
         },
         "name": "Acetate",
         "pointpos": 0,
         "showlegend": false,
         "type": "box",
         "xaxis": "x3",
         "y": [
          2.26830113995759,
          1.16268475731586,
          1.71193730792877,
          7.38788766608212,
          6.09968091831062,
          3.00479255999396
         ],
         "yaxis": "y3"
        },
        {
         "boxpoints": "all",
         "jitter": 0,
         "legendgroup": "Control",
         "marker": {
          "color": "#636EFA",
          "size": 7
         },
         "name": "Control",
         "pointpos": 0,
         "showlegend": false,
         "type": "box",
         "xaxis": "x4",
         "y": [
          7826.39220509213,
          7775.53927470747,
          368.744556569913,
          384.907967200075,
          228.318491071119,
          191.411324664505
         ],
         "yaxis": "y4"
        },
        {
         "boxpoints": "all",
         "jitter": 0,
         "legendgroup": "Acetate",
         "marker": {
          "color": "#EF553B",
          "size": 7
         },
         "name": "Acetate",
         "pointpos": 0,
         "showlegend": false,
         "type": "box",
         "xaxis": "x4",
         "y": [
          75.9880881885793,
          59.2969226231089,
          48.7902132759698,
          54.8814512337529,
          70.1463305605722,
          72.8662195798536
         ],
         "yaxis": "y4"
        },
        {
         "boxpoints": "all",
         "jitter": 0,
         "legendgroup": "Control",
         "marker": {
          "color": "#636EFA",
          "size": 7
         },
         "name": "Control",
         "pointpos": 0,
         "showlegend": false,
         "type": "box",
         "xaxis": "x5",
         "y": [
          64697.1473379681,
          71505.1383254696,
          93602.8945440363,
          102944.61027821,
          131167.597707761,
          107167.048370497
         ],
         "yaxis": "y5"
        },
        {
         "boxpoints": "all",
         "jitter": 0,
         "legendgroup": "Acetate",
         "marker": {
          "color": "#EF553B",
          "size": 7
         },
         "name": "Acetate",
         "pointpos": 0,
         "showlegend": false,
         "type": "box",
         "xaxis": "x5",
         "y": [
          49107.5855295118,
          45123.7954314285,
          44274.1226576538,
          45331.0233065561,
          46614.7781912162,
          47243.6022226451
         ],
         "yaxis": "y5"
        },
        {
         "boxpoints": "all",
         "jitter": 0,
         "legendgroup": "Control",
         "marker": {
          "color": "#636EFA",
          "size": 7
         },
         "name": "Control",
         "pointpos": 0,
         "showlegend": false,
         "type": "box",
         "xaxis": "x6",
         "y": [
          529.214105258724,
          502.140302051927,
          339.63314420913,
          378.817651263365,
          310.843246879957,
          329.146457756424
         ],
         "yaxis": "y6"
        },
        {
         "boxpoints": "all",
         "jitter": 0,
         "legendgroup": "Acetate",
         "marker": {
          "color": "#EF553B",
          "size": 7
         },
         "name": "Acetate",
         "pointpos": 0,
         "showlegend": false,
         "type": "box",
         "xaxis": "x6",
         "y": [
          553.465478149652,
          556.925998754297,
          605.169838352819,
          534.038737005365,
          583.53614118505,
          577.67136965884
         ],
         "yaxis": "y6"
        },
        {
         "boxpoints": "all",
         "jitter": 0,
         "legendgroup": "Control",
         "marker": {
          "color": "#636EFA",
          "size": 7
         },
         "name": "Control",
         "pointpos": 0,
         "showlegend": false,
         "type": "box",
         "xaxis": "x7",
         "y": [
          5864.73336319504,
          5427.42702146287,
          9369.56197834077,
          11008.8550871971,
          10888.6830581106,
          10424.3215067289
         ],
         "yaxis": "y7"
        },
        {
         "boxpoints": "all",
         "jitter": 0,
         "legendgroup": "Acetate",
         "marker": {
          "color": "#EF553B",
          "size": 7
         },
         "name": "Acetate",
         "pointpos": 0,
         "showlegend": false,
         "type": "box",
         "xaxis": "x7",
         "y": [
          3690.525954711,
          3765.93592894607,
          3711.48008358957,
          3605.28918104807,
          3743.17085686995,
          3939.28304615209
         ],
         "yaxis": "y7"
        },
        {
         "boxpoints": "all",
         "jitter": 0,
         "legendgroup": "Control",
         "marker": {
          "color": "#636EFA",
          "size": 7
         },
         "name": "Control",
         "pointpos": 0,
         "showlegend": false,
         "type": "box",
         "xaxis": "x8",
         "y": [
          96.3960118868349,
          88.0317524169747,
          64.6920274684058,
          69.4296016784945,
          78.8569888840008,
          115.454449797638
         ],
         "yaxis": "y8"
        },
        {
         "boxpoints": "all",
         "jitter": 0,
         "legendgroup": "Acetate",
         "marker": {
          "color": "#EF553B",
          "size": 7
         },
         "name": "Acetate",
         "pointpos": 0,
         "showlegend": false,
         "type": "box",
         "xaxis": "x8",
         "y": [
          28.3537642494699,
          24.4163799036331,
          23.9671223110027,
          20.0528379507943,
          18.2990427549319,
          26.2919348999472
         ],
         "yaxis": "y8"
        },
        {
         "boxpoints": "all",
         "jitter": 0,
         "legendgroup": "Control",
         "marker": {
          "color": "#636EFA",
          "size": 7
         },
         "name": "Control",
         "pointpos": 0,
         "showlegend": false,
         "type": "box",
         "xaxis": "x9",
         "y": [
          1206.87806882317,
          1162.37844517924,
          1338.04676813819,
          1503.08997318004,
          2230.91923203225,
          2033.61872976892
         ],
         "yaxis": "y9"
        },
        {
         "boxpoints": "all",
         "jitter": 0,
         "legendgroup": "Acetate",
         "marker": {
          "color": "#EF553B",
          "size": 7
         },
         "name": "Acetate",
         "pointpos": 0,
         "showlegend": false,
         "type": "box",
         "xaxis": "x9",
         "y": [
          874.430089453651,
          776.673417886994,
          909.038710510175,
          900.266882738292,
          927.151499583215,
          992.332742938007
         ],
         "yaxis": "y9"
        },
        {
         "boxpoints": "all",
         "jitter": 0,
         "legendgroup": "Control",
         "marker": {
          "color": "#636EFA",
          "size": 7
         },
         "name": "Control",
         "pointpos": 0,
         "showlegend": false,
         "type": "box",
         "xaxis": "x10",
         "y": [
          2835.00670959181,
          3024.51949375463,
          6193.18342964205,
          6964.88530522161,
          5389.78349604833,
          5083.03406609075
         ],
         "yaxis": "y10"
        },
        {
         "boxpoints": "all",
         "jitter": 0,
         "legendgroup": "Acetate",
         "marker": {
          "color": "#EF553B",
          "size": 7
         },
         "name": "Acetate",
         "pointpos": 0,
         "showlegend": false,
         "type": "box",
         "xaxis": "x10",
         "y": [
          1639.98172418934,
          1680.07947432142,
          1838.6206687155,
          1835.36237875954,
          1628.61480518894,
          1690.1958149966
         ],
         "yaxis": "y10"
        }
       ],
       "layout": {
        "annotations": [
         {
          "font": {
           "size": 16
          },
          "showarrow": false,
          "text": "YIL146C",
          "x": 0.08199999999999999,
          "xanchor": "center",
          "xref": "paper",
          "y": 1,
          "yanchor": "bottom",
          "yref": "paper"
         },
         {
          "font": {
           "size": 16
          },
          "showarrow": false,
          "text": "YGR142W",
          "x": 0.286,
          "xanchor": "center",
          "xref": "paper",
          "y": 1,
          "yanchor": "bottom",
          "yref": "paper"
         },
         {
          "font": {
           "size": 16
          },
          "showarrow": false,
          "text": "YNR070W",
          "x": 0.49,
          "xanchor": "center",
          "xref": "paper",
          "y": 1,
          "yanchor": "bottom",
          "yref": "paper"
         },
         {
          "font": {
           "size": 16
          },
          "showarrow": false,
          "text": "YGR087C",
          "x": 0.6939999999999998,
          "xanchor": "center",
          "xref": "paper",
          "y": 1,
          "yanchor": "bottom",
          "yref": "paper"
         },
         {
          "font": {
           "size": 16
          },
          "showarrow": false,
          "text": "YOL086C",
          "x": 0.8979999999999999,
          "xanchor": "center",
          "xref": "paper",
          "y": 1,
          "yanchor": "bottom",
          "yref": "paper"
         },
         {
          "font": {
           "size": 16
          },
          "showarrow": false,
          "text": "YOR377W",
          "x": 0.08199999999999999,
          "xanchor": "center",
          "xref": "paper",
          "y": 0.45,
          "yanchor": "bottom",
          "yref": "paper"
         },
         {
          "font": {
           "size": 16
          },
          "showarrow": false,
          "text": "YPL061W",
          "x": 0.286,
          "xanchor": "center",
          "xref": "paper",
          "y": 0.45,
          "yanchor": "bottom",
          "yref": "paper"
         },
         {
          "font": {
           "size": 16
          },
          "showarrow": false,
          "text": "YJR095W",
          "x": 0.49,
          "xanchor": "center",
          "xref": "paper",
          "y": 0.45,
          "yanchor": "bottom",
          "yref": "paper"
         },
         {
          "font": {
           "size": 16
          },
          "showarrow": false,
          "text": "YBL015W",
          "x": 0.6939999999999998,
          "xanchor": "center",
          "xref": "paper",
          "y": 0.45,
          "yanchor": "bottom",
          "yref": "paper"
         },
         {
          "font": {
           "size": 16
          },
          "showarrow": false,
          "text": "YER073W",
          "x": 0.8979999999999999,
          "xanchor": "center",
          "xref": "paper",
          "y": 0.45,
          "yanchor": "bottom",
          "yref": "paper"
         },
         {
          "font": {
           "size": 16
          },
          "showarrow": false,
          "text": "Ethanol Metabolism",
          "textangle": 90,
          "x": 0.98,
          "xanchor": "left",
          "xref": "paper",
          "y": 0.775,
          "yanchor": "middle",
          "yref": "paper"
         },
         {
          "font": {
           "size": 16
          },
          "showarrow": false,
          "text": "Acetate Metabolism",
          "textangle": 90,
          "x": 0.98,
          "xanchor": "left",
          "xref": "paper",
          "y": 0.225,
          "yanchor": "middle",
          "yref": "paper"
         },
         {
          "font": {
           "size": 16
          },
          "showarrow": false,
          "text": "Treatment",
          "x": 0.49,
          "xanchor": "center",
          "xref": "paper",
          "y": 0,
          "yanchor": "top",
          "yref": "paper",
          "yshift": -30
         },
         {
          "font": {
           "size": 16
          },
          "showarrow": false,
          "text": "Normalized Counts",
          "textangle": -90,
          "x": 0,
          "xanchor": "right",
          "xref": "paper",
          "xshift": -40,
          "y": 0.5,
          "yanchor": "middle",
          "yref": "paper"
         }
        ],
        "height": 700,
        "template": {
         "data": {
          "bar": [
           {
            "error_x": {
             "color": "#2a3f5f"
            },
            "error_y": {
             "color": "#2a3f5f"
            },
            "marker": {
             "line": {
              "color": "#E5ECF6",
              "width": 0.5
             },
             "pattern": {
              "fillmode": "overlay",
              "size": 10,
              "solidity": 0.2
             }
            },
            "type": "bar"
           }
          ],
          "barpolar": [
           {
            "marker": {
             "line": {
              "color": "#E5ECF6",
              "width": 0.5
             },
             "pattern": {
              "fillmode": "overlay",
              "size": 10,
              "solidity": 0.2
             }
            },
            "type": "barpolar"
           }
          ],
          "carpet": [
           {
            "aaxis": {
             "endlinecolor": "#2a3f5f",
             "gridcolor": "white",
             "linecolor": "white",
             "minorgridcolor": "white",
             "startlinecolor": "#2a3f5f"
            },
            "baxis": {
             "endlinecolor": "#2a3f5f",
             "gridcolor": "white",
             "linecolor": "white",
             "minorgridcolor": "white",
             "startlinecolor": "#2a3f5f"
            },
            "type": "carpet"
           }
          ],
          "choropleth": [
           {
            "colorbar": {
             "outlinewidth": 0,
             "ticks": ""
            },
            "type": "choropleth"
           }
          ],
          "contour": [
           {
            "colorbar": {
             "outlinewidth": 0,
             "ticks": ""
            },
            "colorscale": [
             [
              0,
              "#0d0887"
             ],
             [
              0.1111111111111111,
              "#46039f"
             ],
             [
              0.2222222222222222,
              "#7201a8"
             ],
             [
              0.3333333333333333,
              "#9c179e"
             ],
             [
              0.4444444444444444,
              "#bd3786"
             ],
             [
              0.5555555555555556,
              "#d8576b"
             ],
             [
              0.6666666666666666,
              "#ed7953"
             ],
             [
              0.7777777777777778,
              "#fb9f3a"
             ],
             [
              0.8888888888888888,
              "#fdca26"
             ],
             [
              1,
              "#f0f921"
             ]
            ],
            "type": "contour"
           }
          ],
          "contourcarpet": [
           {
            "colorbar": {
             "outlinewidth": 0,
             "ticks": ""
            },
            "type": "contourcarpet"
           }
          ],
          "heatmap": [
           {
            "colorbar": {
             "outlinewidth": 0,
             "ticks": ""
            },
            "colorscale": [
             [
              0,
              "#0d0887"
             ],
             [
              0.1111111111111111,
              "#46039f"
             ],
             [
              0.2222222222222222,
              "#7201a8"
             ],
             [
              0.3333333333333333,
              "#9c179e"
             ],
             [
              0.4444444444444444,
              "#bd3786"
             ],
             [
              0.5555555555555556,
              "#d8576b"
             ],
             [
              0.6666666666666666,
              "#ed7953"
             ],
             [
              0.7777777777777778,
              "#fb9f3a"
             ],
             [
              0.8888888888888888,
              "#fdca26"
             ],
             [
              1,
              "#f0f921"
             ]
            ],
            "type": "heatmap"
           }
          ],
          "heatmapgl": [
           {
            "colorbar": {
             "outlinewidth": 0,
             "ticks": ""
            },
            "colorscale": [
             [
              0,
              "#0d0887"
             ],
             [
              0.1111111111111111,
              "#46039f"
             ],
             [
              0.2222222222222222,
              "#7201a8"
             ],
             [
              0.3333333333333333,
              "#9c179e"
             ],
             [
              0.4444444444444444,
              "#bd3786"
             ],
             [
              0.5555555555555556,
              "#d8576b"
             ],
             [
              0.6666666666666666,
              "#ed7953"
             ],
             [
              0.7777777777777778,
              "#fb9f3a"
             ],
             [
              0.8888888888888888,
              "#fdca26"
             ],
             [
              1,
              "#f0f921"
             ]
            ],
            "type": "heatmapgl"
           }
          ],
          "histogram": [
           {
            "marker": {
             "pattern": {
              "fillmode": "overlay",
              "size": 10,
              "solidity": 0.2
             }
            },
            "type": "histogram"
           }
          ],
          "histogram2d": [
           {
            "colorbar": {
             "outlinewidth": 0,
             "ticks": ""
            },
            "colorscale": [
             [
              0,
              "#0d0887"
             ],
             [
              0.1111111111111111,
              "#46039f"
             ],
             [
              0.2222222222222222,
              "#7201a8"
             ],
             [
              0.3333333333333333,
              "#9c179e"
             ],
             [
              0.4444444444444444,
              "#bd3786"
             ],
             [
              0.5555555555555556,
              "#d8576b"
             ],
             [
              0.6666666666666666,
              "#ed7953"
             ],
             [
              0.7777777777777778,
              "#fb9f3a"
             ],
             [
              0.8888888888888888,
              "#fdca26"
             ],
             [
              1,
              "#f0f921"
             ]
            ],
            "type": "histogram2d"
           }
          ],
          "histogram2dcontour": [
           {
            "colorbar": {
             "outlinewidth": 0,
             "ticks": ""
            },
            "colorscale": [
             [
              0,
              "#0d0887"
             ],
             [
              0.1111111111111111,
              "#46039f"
             ],
             [
              0.2222222222222222,
              "#7201a8"
             ],
             [
              0.3333333333333333,
              "#9c179e"
             ],
             [
              0.4444444444444444,
              "#bd3786"
             ],
             [
              0.5555555555555556,
              "#d8576b"
             ],
             [
              0.6666666666666666,
              "#ed7953"
             ],
             [
              0.7777777777777778,
              "#fb9f3a"
             ],
             [
              0.8888888888888888,
              "#fdca26"
             ],
             [
              1,
              "#f0f921"
             ]
            ],
            "type": "histogram2dcontour"
           }
          ],
          "mesh3d": [
           {
            "colorbar": {
             "outlinewidth": 0,
             "ticks": ""
            },
            "type": "mesh3d"
           }
          ],
          "parcoords": [
           {
            "line": {
             "colorbar": {
              "outlinewidth": 0,
              "ticks": ""
             }
            },
            "type": "parcoords"
           }
          ],
          "pie": [
           {
            "automargin": true,
            "type": "pie"
           }
          ],
          "scatter": [
           {
            "fillpattern": {
             "fillmode": "overlay",
             "size": 10,
             "solidity": 0.2
            },
            "type": "scatter"
           }
          ],
          "scatter3d": [
           {
            "line": {
             "colorbar": {
              "outlinewidth": 0,
              "ticks": ""
             }
            },
            "marker": {
             "colorbar": {
              "outlinewidth": 0,
              "ticks": ""
             }
            },
            "type": "scatter3d"
           }
          ],
          "scattercarpet": [
           {
            "marker": {
             "colorbar": {
              "outlinewidth": 0,
              "ticks": ""
             }
            },
            "type": "scattercarpet"
           }
          ],
          "scattergeo": [
           {
            "marker": {
             "colorbar": {
              "outlinewidth": 0,
              "ticks": ""
             }
            },
            "type": "scattergeo"
           }
          ],
          "scattergl": [
           {
            "marker": {
             "colorbar": {
              "outlinewidth": 0,
              "ticks": ""
             }
            },
            "type": "scattergl"
           }
          ],
          "scattermapbox": [
           {
            "marker": {
             "colorbar": {
              "outlinewidth": 0,
              "ticks": ""
             }
            },
            "type": "scattermapbox"
           }
          ],
          "scatterpolar": [
           {
            "marker": {
             "colorbar": {
              "outlinewidth": 0,
              "ticks": ""
             }
            },
            "type": "scatterpolar"
           }
          ],
          "scatterpolargl": [
           {
            "marker": {
             "colorbar": {
              "outlinewidth": 0,
              "ticks": ""
             }
            },
            "type": "scatterpolargl"
           }
          ],
          "scatterternary": [
           {
            "marker": {
             "colorbar": {
              "outlinewidth": 0,
              "ticks": ""
             }
            },
            "type": "scatterternary"
           }
          ],
          "surface": [
           {
            "colorbar": {
             "outlinewidth": 0,
             "ticks": ""
            },
            "colorscale": [
             [
              0,
              "#0d0887"
             ],
             [
              0.1111111111111111,
              "#46039f"
             ],
             [
              0.2222222222222222,
              "#7201a8"
             ],
             [
              0.3333333333333333,
              "#9c179e"
             ],
             [
              0.4444444444444444,
              "#bd3786"
             ],
             [
              0.5555555555555556,
              "#d8576b"
             ],
             [
              0.6666666666666666,
              "#ed7953"
             ],
             [
              0.7777777777777778,
              "#fb9f3a"
             ],
             [
              0.8888888888888888,
              "#fdca26"
             ],
             [
              1,
              "#f0f921"
             ]
            ],
            "type": "surface"
           }
          ],
          "table": [
           {
            "cells": {
             "fill": {
              "color": "#EBF0F8"
             },
             "line": {
              "color": "white"
             }
            },
            "header": {
             "fill": {
              "color": "#C8D4E3"
             },
             "line": {
              "color": "white"
             }
            },
            "type": "table"
           }
          ]
         },
         "layout": {
          "annotationdefaults": {
           "arrowcolor": "#2a3f5f",
           "arrowhead": 0,
           "arrowwidth": 1
          },
          "autotypenumbers": "strict",
          "coloraxis": {
           "colorbar": {
            "outlinewidth": 0,
            "ticks": ""
           }
          },
          "colorscale": {
           "diverging": [
            [
             0,
             "#8e0152"
            ],
            [
             0.1,
             "#c51b7d"
            ],
            [
             0.2,
             "#de77ae"
            ],
            [
             0.3,
             "#f1b6da"
            ],
            [
             0.4,
             "#fde0ef"
            ],
            [
             0.5,
             "#f7f7f7"
            ],
            [
             0.6,
             "#e6f5d0"
            ],
            [
             0.7,
             "#b8e186"
            ],
            [
             0.8,
             "#7fbc41"
            ],
            [
             0.9,
             "#4d9221"
            ],
            [
             1,
             "#276419"
            ]
           ],
           "sequential": [
            [
             0,
             "#0d0887"
            ],
            [
             0.1111111111111111,
             "#46039f"
            ],
            [
             0.2222222222222222,
             "#7201a8"
            ],
            [
             0.3333333333333333,
             "#9c179e"
            ],
            [
             0.4444444444444444,
             "#bd3786"
            ],
            [
             0.5555555555555556,
             "#d8576b"
            ],
            [
             0.6666666666666666,
             "#ed7953"
            ],
            [
             0.7777777777777778,
             "#fb9f3a"
            ],
            [
             0.8888888888888888,
             "#fdca26"
            ],
            [
             1,
             "#f0f921"
            ]
           ],
           "sequentialminus": [
            [
             0,
             "#0d0887"
            ],
            [
             0.1111111111111111,
             "#46039f"
            ],
            [
             0.2222222222222222,
             "#7201a8"
            ],
            [
             0.3333333333333333,
             "#9c179e"
            ],
            [
             0.4444444444444444,
             "#bd3786"
            ],
            [
             0.5555555555555556,
             "#d8576b"
            ],
            [
             0.6666666666666666,
             "#ed7953"
            ],
            [
             0.7777777777777778,
             "#fb9f3a"
            ],
            [
             0.8888888888888888,
             "#fdca26"
            ],
            [
             1,
             "#f0f921"
            ]
           ]
          },
          "colorway": [
           "#636efa",
           "#EF553B",
           "#00cc96",
           "#ab63fa",
           "#FFA15A",
           "#19d3f3",
           "#FF6692",
           "#B6E880",
           "#FF97FF",
           "#FECB52"
          ],
          "font": {
           "color": "#2a3f5f"
          },
          "geo": {
           "bgcolor": "white",
           "lakecolor": "white",
           "landcolor": "#E5ECF6",
           "showlakes": true,
           "showland": true,
           "subunitcolor": "white"
          },
          "hoverlabel": {
           "align": "left"
          },
          "hovermode": "closest",
          "mapbox": {
           "style": "light"
          },
          "paper_bgcolor": "white",
          "plot_bgcolor": "#E5ECF6",
          "polar": {
           "angularaxis": {
            "gridcolor": "white",
            "linecolor": "white",
            "ticks": ""
           },
           "bgcolor": "#E5ECF6",
           "radialaxis": {
            "gridcolor": "white",
            "linecolor": "white",
            "ticks": ""
           }
          },
          "scene": {
           "xaxis": {
            "backgroundcolor": "#E5ECF6",
            "gridcolor": "white",
            "gridwidth": 2,
            "linecolor": "white",
            "showbackground": true,
            "ticks": "",
            "zerolinecolor": "white"
           },
           "yaxis": {
            "backgroundcolor": "#E5ECF6",
            "gridcolor": "white",
            "gridwidth": 2,
            "linecolor": "white",
            "showbackground": true,
            "ticks": "",
            "zerolinecolor": "white"
           },
           "zaxis": {
            "backgroundcolor": "#E5ECF6",
            "gridcolor": "white",
            "gridwidth": 2,
            "linecolor": "white",
            "showbackground": true,
            "ticks": "",
            "zerolinecolor": "white"
           }
          },
          "shapedefaults": {
           "line": {
            "color": "#2a3f5f"
           }
          },
          "ternary": {
           "aaxis": {
            "gridcolor": "white",
            "linecolor": "white",
            "ticks": ""
           },
           "baxis": {
            "gridcolor": "white",
            "linecolor": "white",
            "ticks": ""
           },
           "bgcolor": "#E5ECF6",
           "caxis": {
            "gridcolor": "white",
            "linecolor": "white",
            "ticks": ""
           }
          },
          "title": {
           "x": 0.05
          },
          "xaxis": {
           "automargin": true,
           "gridcolor": "white",
           "linecolor": "white",
           "ticks": "",
           "title": {
            "standoff": 15
           },
           "zerolinecolor": "white",
           "zerolinewidth": 2
          },
          "yaxis": {
           "automargin": true,
           "gridcolor": "white",
           "linecolor": "white",
           "ticks": "",
           "title": {
            "standoff": 15
           },
           "zerolinecolor": "white",
           "zerolinewidth": 2
          }
         }
        },
        "title": {
         "text": "Effect of acetate treatment on trascript count of genes involved in acetate and ethanol metabolism",
         "x": 0.5
        },
        "width": 1500,
        "xaxis": {
         "anchor": "y",
         "domain": [
          0,
          0.16399999999999998
         ]
        },
        "xaxis10": {
         "anchor": "y10",
         "domain": [
          0.816,
          0.98
         ]
        },
        "xaxis2": {
         "anchor": "y2",
         "domain": [
          0.204,
          0.368
         ]
        },
        "xaxis3": {
         "anchor": "y3",
         "domain": [
          0.408,
          0.572
         ]
        },
        "xaxis4": {
         "anchor": "y4",
         "domain": [
          0.6119999999999999,
          0.7759999999999998
         ]
        },
        "xaxis5": {
         "anchor": "y5",
         "domain": [
          0.816,
          0.98
         ]
        },
        "xaxis6": {
         "anchor": "y6",
         "domain": [
          0,
          0.16399999999999998
         ]
        },
        "xaxis7": {
         "anchor": "y7",
         "domain": [
          0.204,
          0.368
         ]
        },
        "xaxis8": {
         "anchor": "y8",
         "domain": [
          0.408,
          0.572
         ]
        },
        "xaxis9": {
         "anchor": "y9",
         "domain": [
          0.6119999999999999,
          0.7759999999999998
         ]
        },
        "yaxis": {
         "anchor": "x",
         "domain": [
          0.55,
          1
         ]
        },
        "yaxis10": {
         "anchor": "x10",
         "domain": [
          0,
          0.45
         ]
        },
        "yaxis2": {
         "anchor": "x2",
         "domain": [
          0.55,
          1
         ]
        },
        "yaxis3": {
         "anchor": "x3",
         "domain": [
          0.55,
          1
         ]
        },
        "yaxis4": {
         "anchor": "x4",
         "domain": [
          0.55,
          1
         ]
        },
        "yaxis5": {
         "anchor": "x5",
         "domain": [
          0.55,
          1
         ]
        },
        "yaxis6": {
         "anchor": "x6",
         "domain": [
          0,
          0.45
         ]
        },
        "yaxis7": {
         "anchor": "x7",
         "domain": [
          0,
          0.45
         ]
        },
        "yaxis8": {
         "anchor": "x8",
         "domain": [
          0,
          0.45
         ]
        },
        "yaxis9": {
         "anchor": "x9",
         "domain": [
          0,
          0.45
         ]
        }
       }
      },
      "text/html": [
       "<div>                            <div id=\"85325685-6f60-447b-9db9-a4d79022959f\" class=\"plotly-graph-div\" style=\"height:700px; width:1500px;\"></div>            <script type=\"text/javascript\">                require([\"plotly\"], function(Plotly) {                    window.PLOTLYENV=window.PLOTLYENV || {};                                    if (document.getElementById(\"85325685-6f60-447b-9db9-a4d79022959f\")) {                    Plotly.newPlot(                        \"85325685-6f60-447b-9db9-a4d79022959f\",                        [{\"boxpoints\":\"all\",\"jitter\":0,\"legendgroup\":\"Control\",\"marker\":{\"color\":\"#636EFA\",\"size\":7},\"name\":\"Control\",\"pointpos\":0,\"showlegend\":true,\"y\":[591.871512985166,554.240726951769,578.993645842232,572.489698050744,475.892758497633,449.664699211854],\"type\":\"box\",\"xaxis\":\"x\",\"yaxis\":\"y\"},{\"boxpoints\":\"all\",\"jitter\":0,\"legendgroup\":\"Acetate\",\"marker\":{\"color\":\"#EF553B\",\"size\":7},\"name\":\"Acetate\",\"pointpos\":0,\"showlegend\":true,\"y\":[244.97652311542,206.957886802223,251.654784265529,234.301580267176,221.621740031953,239.632206659519],\"type\":\"box\",\"xaxis\":\"x\",\"yaxis\":\"y\"},{\"boxpoints\":\"all\",\"jitter\":0,\"legendgroup\":\"Control\",\"marker\":{\"color\":\"#636EFA\",\"size\":7},\"name\":\"Control\",\"pointpos\":0,\"showlegend\":false,\"y\":[1736.0921740819,2045.39081891277,4059.42472364246,3634.70055102856,2220.83287298895,2380.9948374934],\"type\":\"box\",\"xaxis\":\"x2\",\"yaxis\":\"y2\"},{\"boxpoints\":\"all\",\"jitter\":0,\"legendgroup\":\"Acetate\",\"marker\":{\"color\":\"#EF553B\",\"size\":7},\"name\":\"Acetate\",\"pointpos\":0,\"showlegend\":false,\"y\":[11832.5928965888,11859.3845246218,12356.7634886298,11567.3212600371,13265.7893838392,13917.447939752],\"type\":\"box\",\"xaxis\":\"x2\",\"yaxis\":\"y2\"},{\"boxpoints\":\"all\",\"jitter\":0,\"legendgroup\":\"Control\",\"marker\":{\"color\":\"#636EFA\",\"size\":7},\"name\":\"Control\",\"pointpos\":0,\"showlegend\":false,\"y\":[14.4594017830252,17.9656637585663,4.31280183122705,6.09031593671005,7.33553384967449,12.1530999786987],\"type\":\"box\",\"xaxis\":\"x3\",\"yaxis\":\"y3\"},{\"boxpoints\":\"all\",\"jitter\":0,\"legendgroup\":\"Acetate\",\"marker\":{\"color\":\"#EF553B\",\"size\":7},\"name\":\"Acetate\",\"pointpos\":0,\"showlegend\":false,\"y\":[2.26830113995759,1.16268475731586,1.71193730792877,7.38788766608212,6.09968091831062,3.00479255999396],\"type\":\"box\",\"xaxis\":\"x3\",\"yaxis\":\"y3\"},{\"boxpoints\":\"all\",\"jitter\":0,\"legendgroup\":\"Control\",\"marker\":{\"color\":\"#636EFA\",\"size\":7},\"name\":\"Control\",\"pointpos\":0,\"showlegend\":false,\"y\":[7826.39220509213,7775.53927470747,368.744556569913,384.907967200075,228.318491071119,191.411324664505],\"type\":\"box\",\"xaxis\":\"x4\",\"yaxis\":\"y4\"},{\"boxpoints\":\"all\",\"jitter\":0,\"legendgroup\":\"Acetate\",\"marker\":{\"color\":\"#EF553B\",\"size\":7},\"name\":\"Acetate\",\"pointpos\":0,\"showlegend\":false,\"y\":[75.9880881885793,59.2969226231089,48.7902132759698,54.8814512337529,70.1463305605722,72.8662195798536],\"type\":\"box\",\"xaxis\":\"x4\",\"yaxis\":\"y4\"},{\"boxpoints\":\"all\",\"jitter\":0,\"legendgroup\":\"Control\",\"marker\":{\"color\":\"#636EFA\",\"size\":7},\"name\":\"Control\",\"pointpos\":0,\"showlegend\":false,\"y\":[64697.1473379681,71505.1383254696,93602.8945440363,102944.61027821,131167.597707761,107167.048370497],\"type\":\"box\",\"xaxis\":\"x5\",\"yaxis\":\"y5\"},{\"boxpoints\":\"all\",\"jitter\":0,\"legendgroup\":\"Acetate\",\"marker\":{\"color\":\"#EF553B\",\"size\":7},\"name\":\"Acetate\",\"pointpos\":0,\"showlegend\":false,\"y\":[49107.5855295118,45123.7954314285,44274.1226576538,45331.0233065561,46614.7781912162,47243.6022226451],\"type\":\"box\",\"xaxis\":\"x5\",\"yaxis\":\"y5\"},{\"boxpoints\":\"all\",\"jitter\":0,\"legendgroup\":\"Control\",\"marker\":{\"color\":\"#636EFA\",\"size\":7},\"name\":\"Control\",\"pointpos\":0,\"showlegend\":false,\"y\":[529.214105258724,502.140302051927,339.63314420913,378.817651263365,310.843246879957,329.146457756424],\"type\":\"box\",\"xaxis\":\"x6\",\"yaxis\":\"y6\"},{\"boxpoints\":\"all\",\"jitter\":0,\"legendgroup\":\"Acetate\",\"marker\":{\"color\":\"#EF553B\",\"size\":7},\"name\":\"Acetate\",\"pointpos\":0,\"showlegend\":false,\"y\":[553.465478149652,556.925998754297,605.169838352819,534.038737005365,583.53614118505,577.67136965884],\"type\":\"box\",\"xaxis\":\"x6\",\"yaxis\":\"y6\"},{\"boxpoints\":\"all\",\"jitter\":0,\"legendgroup\":\"Control\",\"marker\":{\"color\":\"#636EFA\",\"size\":7},\"name\":\"Control\",\"pointpos\":0,\"showlegend\":false,\"y\":[5864.73336319504,5427.42702146287,9369.56197834077,11008.8550871971,10888.6830581106,10424.3215067289],\"type\":\"box\",\"xaxis\":\"x7\",\"yaxis\":\"y7\"},{\"boxpoints\":\"all\",\"jitter\":0,\"legendgroup\":\"Acetate\",\"marker\":{\"color\":\"#EF553B\",\"size\":7},\"name\":\"Acetate\",\"pointpos\":0,\"showlegend\":false,\"y\":[3690.525954711,3765.93592894607,3711.48008358957,3605.28918104807,3743.17085686995,3939.28304615209],\"type\":\"box\",\"xaxis\":\"x7\",\"yaxis\":\"y7\"},{\"boxpoints\":\"all\",\"jitter\":0,\"legendgroup\":\"Control\",\"marker\":{\"color\":\"#636EFA\",\"size\":7},\"name\":\"Control\",\"pointpos\":0,\"showlegend\":false,\"y\":[96.3960118868349,88.0317524169747,64.6920274684058,69.4296016784945,78.8569888840008,115.454449797638],\"type\":\"box\",\"xaxis\":\"x8\",\"yaxis\":\"y8\"},{\"boxpoints\":\"all\",\"jitter\":0,\"legendgroup\":\"Acetate\",\"marker\":{\"color\":\"#EF553B\",\"size\":7},\"name\":\"Acetate\",\"pointpos\":0,\"showlegend\":false,\"y\":[28.3537642494699,24.4163799036331,23.9671223110027,20.0528379507943,18.2990427549319,26.2919348999472],\"type\":\"box\",\"xaxis\":\"x8\",\"yaxis\":\"y8\"},{\"boxpoints\":\"all\",\"jitter\":0,\"legendgroup\":\"Control\",\"marker\":{\"color\":\"#636EFA\",\"size\":7},\"name\":\"Control\",\"pointpos\":0,\"showlegend\":false,\"y\":[1206.87806882317,1162.37844517924,1338.04676813819,1503.08997318004,2230.91923203225,2033.61872976892],\"type\":\"box\",\"xaxis\":\"x9\",\"yaxis\":\"y9\"},{\"boxpoints\":\"all\",\"jitter\":0,\"legendgroup\":\"Acetate\",\"marker\":{\"color\":\"#EF553B\",\"size\":7},\"name\":\"Acetate\",\"pointpos\":0,\"showlegend\":false,\"y\":[874.430089453651,776.673417886994,909.038710510175,900.266882738292,927.151499583215,992.332742938007],\"type\":\"box\",\"xaxis\":\"x9\",\"yaxis\":\"y9\"},{\"boxpoints\":\"all\",\"jitter\":0,\"legendgroup\":\"Control\",\"marker\":{\"color\":\"#636EFA\",\"size\":7},\"name\":\"Control\",\"pointpos\":0,\"showlegend\":false,\"y\":[2835.00670959181,3024.51949375463,6193.18342964205,6964.88530522161,5389.78349604833,5083.03406609075],\"type\":\"box\",\"xaxis\":\"x10\",\"yaxis\":\"y10\"},{\"boxpoints\":\"all\",\"jitter\":0,\"legendgroup\":\"Acetate\",\"marker\":{\"color\":\"#EF553B\",\"size\":7},\"name\":\"Acetate\",\"pointpos\":0,\"showlegend\":false,\"y\":[1639.98172418934,1680.07947432142,1838.6206687155,1835.36237875954,1628.61480518894,1690.1958149966],\"type\":\"box\",\"xaxis\":\"x10\",\"yaxis\":\"y10\"}],                        {\"template\":{\"data\":{\"histogram2dcontour\":[{\"type\":\"histogram2dcontour\",\"colorbar\":{\"outlinewidth\":0,\"ticks\":\"\"},\"colorscale\":[[0.0,\"#0d0887\"],[0.1111111111111111,\"#46039f\"],[0.2222222222222222,\"#7201a8\"],[0.3333333333333333,\"#9c179e\"],[0.4444444444444444,\"#bd3786\"],[0.5555555555555556,\"#d8576b\"],[0.6666666666666666,\"#ed7953\"],[0.7777777777777778,\"#fb9f3a\"],[0.8888888888888888,\"#fdca26\"],[1.0,\"#f0f921\"]]}],\"choropleth\":[{\"type\":\"choropleth\",\"colorbar\":{\"outlinewidth\":0,\"ticks\":\"\"}}],\"histogram2d\":[{\"type\":\"histogram2d\",\"colorbar\":{\"outlinewidth\":0,\"ticks\":\"\"},\"colorscale\":[[0.0,\"#0d0887\"],[0.1111111111111111,\"#46039f\"],[0.2222222222222222,\"#7201a8\"],[0.3333333333333333,\"#9c179e\"],[0.4444444444444444,\"#bd3786\"],[0.5555555555555556,\"#d8576b\"],[0.6666666666666666,\"#ed7953\"],[0.7777777777777778,\"#fb9f3a\"],[0.8888888888888888,\"#fdca26\"],[1.0,\"#f0f921\"]]}],\"heatmap\":[{\"type\":\"heatmap\",\"colorbar\":{\"outlinewidth\":0,\"ticks\":\"\"},\"colorscale\":[[0.0,\"#0d0887\"],[0.1111111111111111,\"#46039f\"],[0.2222222222222222,\"#7201a8\"],[0.3333333333333333,\"#9c179e\"],[0.4444444444444444,\"#bd3786\"],[0.5555555555555556,\"#d8576b\"],[0.6666666666666666,\"#ed7953\"],[0.7777777777777778,\"#fb9f3a\"],[0.8888888888888888,\"#fdca26\"],[1.0,\"#f0f921\"]]}],\"heatmapgl\":[{\"type\":\"heatmapgl\",\"colorbar\":{\"outlinewidth\":0,\"ticks\":\"\"},\"colorscale\":[[0.0,\"#0d0887\"],[0.1111111111111111,\"#46039f\"],[0.2222222222222222,\"#7201a8\"],[0.3333333333333333,\"#9c179e\"],[0.4444444444444444,\"#bd3786\"],[0.5555555555555556,\"#d8576b\"],[0.6666666666666666,\"#ed7953\"],[0.7777777777777778,\"#fb9f3a\"],[0.8888888888888888,\"#fdca26\"],[1.0,\"#f0f921\"]]}],\"contourcarpet\":[{\"type\":\"contourcarpet\",\"colorbar\":{\"outlinewidth\":0,\"ticks\":\"\"}}],\"contour\":[{\"type\":\"contour\",\"colorbar\":{\"outlinewidth\":0,\"ticks\":\"\"},\"colorscale\":[[0.0,\"#0d0887\"],[0.1111111111111111,\"#46039f\"],[0.2222222222222222,\"#7201a8\"],[0.3333333333333333,\"#9c179e\"],[0.4444444444444444,\"#bd3786\"],[0.5555555555555556,\"#d8576b\"],[0.6666666666666666,\"#ed7953\"],[0.7777777777777778,\"#fb9f3a\"],[0.8888888888888888,\"#fdca26\"],[1.0,\"#f0f921\"]]}],\"surface\":[{\"type\":\"surface\",\"colorbar\":{\"outlinewidth\":0,\"ticks\":\"\"},\"colorscale\":[[0.0,\"#0d0887\"],[0.1111111111111111,\"#46039f\"],[0.2222222222222222,\"#7201a8\"],[0.3333333333333333,\"#9c179e\"],[0.4444444444444444,\"#bd3786\"],[0.5555555555555556,\"#d8576b\"],[0.6666666666666666,\"#ed7953\"],[0.7777777777777778,\"#fb9f3a\"],[0.8888888888888888,\"#fdca26\"],[1.0,\"#f0f921\"]]}],\"mesh3d\":[{\"type\":\"mesh3d\",\"colorbar\":{\"outlinewidth\":0,\"ticks\":\"\"}}],\"scatter\":[{\"fillpattern\":{\"fillmode\":\"overlay\",\"size\":10,\"solidity\":0.2},\"type\":\"scatter\"}],\"parcoords\":[{\"type\":\"parcoords\",\"line\":{\"colorbar\":{\"outlinewidth\":0,\"ticks\":\"\"}}}],\"scatterpolargl\":[{\"type\":\"scatterpolargl\",\"marker\":{\"colorbar\":{\"outlinewidth\":0,\"ticks\":\"\"}}}],\"bar\":[{\"error_x\":{\"color\":\"#2a3f5f\"},\"error_y\":{\"color\":\"#2a3f5f\"},\"marker\":{\"line\":{\"color\":\"#E5ECF6\",\"width\":0.5},\"pattern\":{\"fillmode\":\"overlay\",\"size\":10,\"solidity\":0.2}},\"type\":\"bar\"}],\"scattergeo\":[{\"type\":\"scattergeo\",\"marker\":{\"colorbar\":{\"outlinewidth\":0,\"ticks\":\"\"}}}],\"scatterpolar\":[{\"type\":\"scatterpolar\",\"marker\":{\"colorbar\":{\"outlinewidth\":0,\"ticks\":\"\"}}}],\"histogram\":[{\"marker\":{\"pattern\":{\"fillmode\":\"overlay\",\"size\":10,\"solidity\":0.2}},\"type\":\"histogram\"}],\"scattergl\":[{\"type\":\"scattergl\",\"marker\":{\"colorbar\":{\"outlinewidth\":0,\"ticks\":\"\"}}}],\"scatter3d\":[{\"type\":\"scatter3d\",\"line\":{\"colorbar\":{\"outlinewidth\":0,\"ticks\":\"\"}},\"marker\":{\"colorbar\":{\"outlinewidth\":0,\"ticks\":\"\"}}}],\"scattermapbox\":[{\"type\":\"scattermapbox\",\"marker\":{\"colorbar\":{\"outlinewidth\":0,\"ticks\":\"\"}}}],\"scatterternary\":[{\"type\":\"scatterternary\",\"marker\":{\"colorbar\":{\"outlinewidth\":0,\"ticks\":\"\"}}}],\"scattercarpet\":[{\"type\":\"scattercarpet\",\"marker\":{\"colorbar\":{\"outlinewidth\":0,\"ticks\":\"\"}}}],\"carpet\":[{\"aaxis\":{\"endlinecolor\":\"#2a3f5f\",\"gridcolor\":\"white\",\"linecolor\":\"white\",\"minorgridcolor\":\"white\",\"startlinecolor\":\"#2a3f5f\"},\"baxis\":{\"endlinecolor\":\"#2a3f5f\",\"gridcolor\":\"white\",\"linecolor\":\"white\",\"minorgridcolor\":\"white\",\"startlinecolor\":\"#2a3f5f\"},\"type\":\"carpet\"}],\"table\":[{\"cells\":{\"fill\":{\"color\":\"#EBF0F8\"},\"line\":{\"color\":\"white\"}},\"header\":{\"fill\":{\"color\":\"#C8D4E3\"},\"line\":{\"color\":\"white\"}},\"type\":\"table\"}],\"barpolar\":[{\"marker\":{\"line\":{\"color\":\"#E5ECF6\",\"width\":0.5},\"pattern\":{\"fillmode\":\"overlay\",\"size\":10,\"solidity\":0.2}},\"type\":\"barpolar\"}],\"pie\":[{\"automargin\":true,\"type\":\"pie\"}]},\"layout\":{\"autotypenumbers\":\"strict\",\"colorway\":[\"#636efa\",\"#EF553B\",\"#00cc96\",\"#ab63fa\",\"#FFA15A\",\"#19d3f3\",\"#FF6692\",\"#B6E880\",\"#FF97FF\",\"#FECB52\"],\"font\":{\"color\":\"#2a3f5f\"},\"hovermode\":\"closest\",\"hoverlabel\":{\"align\":\"left\"},\"paper_bgcolor\":\"white\",\"plot_bgcolor\":\"#E5ECF6\",\"polar\":{\"bgcolor\":\"#E5ECF6\",\"angularaxis\":{\"gridcolor\":\"white\",\"linecolor\":\"white\",\"ticks\":\"\"},\"radialaxis\":{\"gridcolor\":\"white\",\"linecolor\":\"white\",\"ticks\":\"\"}},\"ternary\":{\"bgcolor\":\"#E5ECF6\",\"aaxis\":{\"gridcolor\":\"white\",\"linecolor\":\"white\",\"ticks\":\"\"},\"baxis\":{\"gridcolor\":\"white\",\"linecolor\":\"white\",\"ticks\":\"\"},\"caxis\":{\"gridcolor\":\"white\",\"linecolor\":\"white\",\"ticks\":\"\"}},\"coloraxis\":{\"colorbar\":{\"outlinewidth\":0,\"ticks\":\"\"}},\"colorscale\":{\"sequential\":[[0.0,\"#0d0887\"],[0.1111111111111111,\"#46039f\"],[0.2222222222222222,\"#7201a8\"],[0.3333333333333333,\"#9c179e\"],[0.4444444444444444,\"#bd3786\"],[0.5555555555555556,\"#d8576b\"],[0.6666666666666666,\"#ed7953\"],[0.7777777777777778,\"#fb9f3a\"],[0.8888888888888888,\"#fdca26\"],[1.0,\"#f0f921\"]],\"sequentialminus\":[[0.0,\"#0d0887\"],[0.1111111111111111,\"#46039f\"],[0.2222222222222222,\"#7201a8\"],[0.3333333333333333,\"#9c179e\"],[0.4444444444444444,\"#bd3786\"],[0.5555555555555556,\"#d8576b\"],[0.6666666666666666,\"#ed7953\"],[0.7777777777777778,\"#fb9f3a\"],[0.8888888888888888,\"#fdca26\"],[1.0,\"#f0f921\"]],\"diverging\":[[0,\"#8e0152\"],[0.1,\"#c51b7d\"],[0.2,\"#de77ae\"],[0.3,\"#f1b6da\"],[0.4,\"#fde0ef\"],[0.5,\"#f7f7f7\"],[0.6,\"#e6f5d0\"],[0.7,\"#b8e186\"],[0.8,\"#7fbc41\"],[0.9,\"#4d9221\"],[1,\"#276419\"]]},\"xaxis\":{\"gridcolor\":\"white\",\"linecolor\":\"white\",\"ticks\":\"\",\"title\":{\"standoff\":15},\"zerolinecolor\":\"white\",\"automargin\":true,\"zerolinewidth\":2},\"yaxis\":{\"gridcolor\":\"white\",\"linecolor\":\"white\",\"ticks\":\"\",\"title\":{\"standoff\":15},\"zerolinecolor\":\"white\",\"automargin\":true,\"zerolinewidth\":2},\"scene\":{\"xaxis\":{\"backgroundcolor\":\"#E5ECF6\",\"gridcolor\":\"white\",\"linecolor\":\"white\",\"showbackground\":true,\"ticks\":\"\",\"zerolinecolor\":\"white\",\"gridwidth\":2},\"yaxis\":{\"backgroundcolor\":\"#E5ECF6\",\"gridcolor\":\"white\",\"linecolor\":\"white\",\"showbackground\":true,\"ticks\":\"\",\"zerolinecolor\":\"white\",\"gridwidth\":2},\"zaxis\":{\"backgroundcolor\":\"#E5ECF6\",\"gridcolor\":\"white\",\"linecolor\":\"white\",\"showbackground\":true,\"ticks\":\"\",\"zerolinecolor\":\"white\",\"gridwidth\":2}},\"shapedefaults\":{\"line\":{\"color\":\"#2a3f5f\"}},\"annotationdefaults\":{\"arrowcolor\":\"#2a3f5f\",\"arrowhead\":0,\"arrowwidth\":1},\"geo\":{\"bgcolor\":\"white\",\"landcolor\":\"#E5ECF6\",\"subunitcolor\":\"white\",\"showland\":true,\"showlakes\":true,\"lakecolor\":\"white\"},\"title\":{\"x\":0.05},\"mapbox\":{\"style\":\"light\"}}},\"xaxis\":{\"anchor\":\"y\",\"domain\":[0.0,0.16399999999999998]},\"yaxis\":{\"anchor\":\"x\",\"domain\":[0.55,1.0]},\"xaxis2\":{\"anchor\":\"y2\",\"domain\":[0.204,0.368]},\"yaxis2\":{\"anchor\":\"x2\",\"domain\":[0.55,1.0]},\"xaxis3\":{\"anchor\":\"y3\",\"domain\":[0.408,0.572]},\"yaxis3\":{\"anchor\":\"x3\",\"domain\":[0.55,1.0]},\"xaxis4\":{\"anchor\":\"y4\",\"domain\":[0.6119999999999999,0.7759999999999998]},\"yaxis4\":{\"anchor\":\"x4\",\"domain\":[0.55,1.0]},\"xaxis5\":{\"anchor\":\"y5\",\"domain\":[0.816,0.98]},\"yaxis5\":{\"anchor\":\"x5\",\"domain\":[0.55,1.0]},\"xaxis6\":{\"anchor\":\"y6\",\"domain\":[0.0,0.16399999999999998]},\"yaxis6\":{\"anchor\":\"x6\",\"domain\":[0.0,0.45]},\"xaxis7\":{\"anchor\":\"y7\",\"domain\":[0.204,0.368]},\"yaxis7\":{\"anchor\":\"x7\",\"domain\":[0.0,0.45]},\"xaxis8\":{\"anchor\":\"y8\",\"domain\":[0.408,0.572]},\"yaxis8\":{\"anchor\":\"x8\",\"domain\":[0.0,0.45]},\"xaxis9\":{\"anchor\":\"y9\",\"domain\":[0.6119999999999999,0.7759999999999998]},\"yaxis9\":{\"anchor\":\"x9\",\"domain\":[0.0,0.45]},\"xaxis10\":{\"anchor\":\"y10\",\"domain\":[0.816,0.98]},\"yaxis10\":{\"anchor\":\"x10\",\"domain\":[0.0,0.45]},\"annotations\":[{\"font\":{\"size\":16},\"showarrow\":false,\"text\":\"YIL146C\",\"x\":0.08199999999999999,\"xanchor\":\"center\",\"xref\":\"paper\",\"y\":1.0,\"yanchor\":\"bottom\",\"yref\":\"paper\"},{\"font\":{\"size\":16},\"showarrow\":false,\"text\":\"YGR142W\",\"x\":0.286,\"xanchor\":\"center\",\"xref\":\"paper\",\"y\":1.0,\"yanchor\":\"bottom\",\"yref\":\"paper\"},{\"font\":{\"size\":16},\"showarrow\":false,\"text\":\"YNR070W\",\"x\":0.49,\"xanchor\":\"center\",\"xref\":\"paper\",\"y\":1.0,\"yanchor\":\"bottom\",\"yref\":\"paper\"},{\"font\":{\"size\":16},\"showarrow\":false,\"text\":\"YGR087C\",\"x\":0.6939999999999998,\"xanchor\":\"center\",\"xref\":\"paper\",\"y\":1.0,\"yanchor\":\"bottom\",\"yref\":\"paper\"},{\"font\":{\"size\":16},\"showarrow\":false,\"text\":\"YOL086C\",\"x\":0.8979999999999999,\"xanchor\":\"center\",\"xref\":\"paper\",\"y\":1.0,\"yanchor\":\"bottom\",\"yref\":\"paper\"},{\"font\":{\"size\":16},\"showarrow\":false,\"text\":\"YOR377W\",\"x\":0.08199999999999999,\"xanchor\":\"center\",\"xref\":\"paper\",\"y\":0.45,\"yanchor\":\"bottom\",\"yref\":\"paper\"},{\"font\":{\"size\":16},\"showarrow\":false,\"text\":\"YPL061W\",\"x\":0.286,\"xanchor\":\"center\",\"xref\":\"paper\",\"y\":0.45,\"yanchor\":\"bottom\",\"yref\":\"paper\"},{\"font\":{\"size\":16},\"showarrow\":false,\"text\":\"YJR095W\",\"x\":0.49,\"xanchor\":\"center\",\"xref\":\"paper\",\"y\":0.45,\"yanchor\":\"bottom\",\"yref\":\"paper\"},{\"font\":{\"size\":16},\"showarrow\":false,\"text\":\"YBL015W\",\"x\":0.6939999999999998,\"xanchor\":\"center\",\"xref\":\"paper\",\"y\":0.45,\"yanchor\":\"bottom\",\"yref\":\"paper\"},{\"font\":{\"size\":16},\"showarrow\":false,\"text\":\"YER073W\",\"x\":0.8979999999999999,\"xanchor\":\"center\",\"xref\":\"paper\",\"y\":0.45,\"yanchor\":\"bottom\",\"yref\":\"paper\"},{\"font\":{\"size\":16},\"showarrow\":false,\"text\":\"Ethanol Metabolism\",\"textangle\":90,\"x\":0.98,\"xanchor\":\"left\",\"xref\":\"paper\",\"y\":0.775,\"yanchor\":\"middle\",\"yref\":\"paper\"},{\"font\":{\"size\":16},\"showarrow\":false,\"text\":\"Acetate Metabolism\",\"textangle\":90,\"x\":0.98,\"xanchor\":\"left\",\"xref\":\"paper\",\"y\":0.225,\"yanchor\":\"middle\",\"yref\":\"paper\"},{\"font\":{\"size\":16},\"showarrow\":false,\"text\":\"Treatment\",\"x\":0.49,\"xanchor\":\"center\",\"xref\":\"paper\",\"y\":0,\"yanchor\":\"top\",\"yref\":\"paper\",\"yshift\":-30},{\"font\":{\"size\":16},\"showarrow\":false,\"text\":\"Normalized Counts\",\"textangle\":-90,\"x\":0,\"xanchor\":\"right\",\"xref\":\"paper\",\"xshift\":-40,\"y\":0.5,\"yanchor\":\"middle\",\"yref\":\"paper\"}],\"title\":{\"text\":\"Effect of acetate treatment on trascript count of genes involved in acetate and ethanol metabolism\",\"x\":0.5},\"width\":1500,\"height\":700},                        {\"responsive\": true}                    ).then(function(){\n",
       "                            \n",
       "var gd = document.getElementById('85325685-6f60-447b-9db9-a4d79022959f');\n",
       "var x = new MutationObserver(function (mutations, observer) {{\n",
       "        var display = window.getComputedStyle(gd).display;\n",
       "        if (!display || display === 'none') {{\n",
       "            console.log([gd, 'removed!']);\n",
       "            Plotly.purge(gd);\n",
       "            observer.disconnect();\n",
       "        }}\n",
       "}});\n",
       "\n",
       "// Listen for the removal of the full notebook cells\n",
       "var notebookContainer = gd.closest('#notebook-container');\n",
       "if (notebookContainer) {{\n",
       "    x.observe(notebookContainer, {childList: true});\n",
       "}}\n",
       "\n",
       "// Listen for the clearing of the current output cell\n",
       "var outputEl = gd.closest('.output');\n",
       "if (outputEl) {{\n",
       "    x.observe(outputEl, {childList: true});\n",
       "}}\n",
       "\n",
       "                        })                };                });            </script>        </div>"
      ]
     },
     "metadata": {},
     "output_type": "display_data"
    }
   ],
   "source": [
    "from plotly.subplots import make_subplots\n",
    "import plotly.express as px\n",
    "\n",
    "fig = make_subplots(rows=2, cols=len(related_to_acetate),x_title=\"Treatment\",y_title=\"Normalized Counts\",subplot_titles=related_to_ethanol+related_to_acetate,vertical_spacing=0.1,\n",
    "                    specs=[[ {\"type\": \"box\"}]*5]*2,row_titles=[\"Ethanol Metabolism\",\"Acetate Metabolism\"])\n",
    "\n",
    "for i in range(2):\n",
    "    \n",
    "    for ind,j in enumerate(related_to_ethanol):\n",
    "        if i==0:\n",
    "\n",
    "            fig.add_trace(go.Box(\n",
    "            y=counts.loc[related_to_ethanol[ind],controls].to_numpy()\n",
    "            ,name=\"Control\",legendgroup='Control',marker_color= px.colors.qualitative.Plotly[0],boxpoints='all',jitter=0,marker_size=7,pointpos=0,showlegend=True if ind==0 else False)\n",
    "             ,row=i+1,col=ind+1,\n",
    "                \n",
    "            )\n",
    "            fig.add_trace(go.Box(\n",
    "            y=counts.loc[related_to_ethanol[ind],acetate].to_numpy()\n",
    "            ,name=\"Acetate\",legendgroup='Acetate',marker_color= px.colors.qualitative.Plotly[1],boxpoints='all',jitter=0,marker_size=7,pointpos=0,showlegend=True if ind==0 else False)\n",
    "             ,row=i+1,col=ind+1\n",
    "                \n",
    "            )\n",
    "\n",
    "            \n",
    "\n",
    "        else:\n",
    "            fig.add_trace(go.Box(\n",
    "            y=counts.loc[related_to_acetate[ind],controls].to_numpy()\n",
    "            ,name=\"Control\",legendgroup='Control',marker_color= px.colors.qualitative.Plotly[0],boxpoints='all',jitter=0,marker_size=7,pointpos=0,showlegend=False)\n",
    "             ,row=i+1,col=ind+1,\n",
    "                \n",
    "            )\n",
    "            fig.add_trace(go.Box(\n",
    "            y=counts.loc[related_to_acetate[ind],acetate].to_numpy()\n",
    "            ,name=\"Acetate\",legendgroup='Acetate',marker_color= px.colors.qualitative.Plotly[1],boxpoints='all',jitter=0,marker_size=7,pointpos=0,showlegend=False)\n",
    "             ,row=i+1,col=ind+1,\n",
    "                \n",
    "            )\n",
    "            \n",
    "\n",
    "fig.update_layout(width=1500,height=700,title={\"text\":\"Effect of acetate treatment on trascript count of genes involved in acetate and ethanol metabolism\",'x':0.5})\n",
    "\n"
   ]
  },
  {
   "cell_type": "code",
   "execution_count": 28,
   "id": "f3283cbb",
   "metadata": {},
   "outputs": [],
   "source": [
    "fig.write_image(\"RNA_Seq.svg\")"
   ]
  },
  {
   "cell_type": "code",
   "execution_count": 29,
   "id": "a674f757",
   "metadata": {},
   "outputs": [
    {
     "data": {
      "text/plain": [
       "'>YIL146C_mRNA cds chromosome:R64-1-1:IX:74184:75773:-1 gene:YIL146C gene_biotype:protein_coding transcript_biotype:protein_coding gene_symbol:ATG32 description:Mitochondrial outer membrane protein required to initiate mitophagy; recruits the autophagy adaptor protein Atg11p and the ubiquitin-like protein Atg8p to the mitochondrial surface to initiate mitophagy, the selective vacuolar degradation of mitochondria in response to starvation; can promote pexophagy when placed ectopically in the peroxisomal membrane; regulates mitophagy and ethanol production during alcoholic fermentation [Source:SGD;Acc:S000001408]\\n'"
      ]
     },
     "execution_count": 29,
     "metadata": {},
     "output_type": "execute_result"
    }
   ],
   "source": [
    "info_dict[\"YNR070W\"]"
   ]
  },
  {
   "cell_type": "code",
   "execution_count": 30,
   "id": "f3ec8b52",
   "metadata": {},
   "outputs": [
    {
     "data": {
      "text/plain": [
       "'>YIL146C_mRNA cds chromosome:R64-1-1:IX:74184:75773:-1 gene:YIL146C gene_biotype:protein_coding transcript_biotype:protein_coding gene_symbol:ATG32 description:Mitochondrial outer membrane protein required to initiate mitophagy; recruits the autophagy adaptor protein Atg11p and the ubiquitin-like protein Atg8p to the mitochondrial surface to initiate mitophagy, the selective vacuolar degradation of mitochondria in response to starvation; can promote pexophagy when placed ectopically in the peroxisomal membrane; regulates mitophagy and ethanol production during alcoholic fermentation [Source:SGD;Acc:S000001408]\\n'"
      ]
     },
     "execution_count": 30,
     "metadata": {},
     "output_type": "execute_result"
    }
   ],
   "source": [
    "info_dict[\"YIL146C\"]"
   ]
  },
  {
   "cell_type": "code",
   "execution_count": 31,
   "id": "81732644",
   "metadata": {},
   "outputs": [
    {
     "data": {
      "text/plain": [
       "'>YGR087C_mRNA cds chromosome:R64-1-1:VII:651290:652981:-1 gene:YGR087C gene_biotype:protein_coding transcript_biotype:protein_coding gene_symbol:PDC6 description:Minor isoform of pyruvate decarboxylase; decarboxylates pyruvate to acetaldehyde, involved in amino acid catabolism; transcription is glucose- and ethanol-dependent, and is strongly induced during sulfur limitation [Source:SGD;Acc:S000003319]\\n'"
      ]
     },
     "execution_count": 31,
     "metadata": {},
     "output_type": "execute_result"
    }
   ],
   "source": [
    "info_dict[\"YGR087C\"]"
   ]
  },
  {
   "cell_type": "code",
   "execution_count": 32,
   "id": "0bfeeabb",
   "metadata": {},
   "outputs": [
    {
     "data": {
      "text/plain": [
       "'>YOL086C_mRNA cds chromosome:R64-1-1:XV:159548:160594:-1 gene:YOL086C gene_biotype:protein_coding transcript_biotype:protein_coding gene_symbol:ADH1 description:Alcohol dehydrogenase; fermentative isozyme active as homo- or heterotetramers; required for the reduction of acetaldehyde to ethanol, the last step in the glycolytic pathway; ADH1 has a paralog, ADH5, that arose from the whole genome duplication [Source:SGD;Acc:S000005446]\\n'"
      ]
     },
     "execution_count": 32,
     "metadata": {},
     "output_type": "execute_result"
    }
   ],
   "source": [
    "info_dict[\"YOL086C\"]"
   ]
  },
  {
   "cell_type": "code",
   "execution_count": 33,
   "id": "a3484afe",
   "metadata": {},
   "outputs": [
    {
     "data": {
      "text/plain": [
       "'>YGR142W_mRNA cds chromosome:R64-1-1:VII:772454:773686:1 gene:YGR142W gene_biotype:protein_coding transcript_biotype:protein_coding gene_symbol:BTN2 description:v-SNARE binding protein; facilitates specific protein retrieval from a late endosome to the Golgi; modulates arginine uptake, possible role in mediating pH homeostasis between the vacuole and plasma membrane H(+)-ATPase; contributes to prion curing; preferentially expressed after severe ethanol stress [Source:SGD;Acc:S000003374]\\n'"
      ]
     },
     "execution_count": 33,
     "metadata": {},
     "output_type": "execute_result"
    }
   ],
   "source": [
    "info_dict[\"YGR142W\"]"
   ]
  },
  {
   "cell_type": "code",
   "execution_count": null,
   "id": "642002ef",
   "metadata": {},
   "outputs": [],
   "source": [
    "related_to_ethanol=[\"YIL146C\",\"YGR142W\",\"YNR070W\",\"YGR087C\",\"YOL086C\"]\n",
    "related_to_acetate=[\"YOR377W\",\"YPL061W\",\"YJR095W\",\"YBL015W\",\"YER073W\"]"
   ]
  }
 ],
 "metadata": {
  "kernelspec": {
   "display_name": "Python 3 (ipykernel)",
   "language": "python",
   "name": "python3"
  },
  "language_info": {
   "codemirror_mode": {
    "name": "ipython",
    "version": 3
   },
   "file_extension": ".py",
   "mimetype": "text/x-python",
   "name": "python",
   "nbconvert_exporter": "python",
   "pygments_lexer": "ipython3",
   "version": "3.9.7"
  }
 },
 "nbformat": 4,
 "nbformat_minor": 5
}
