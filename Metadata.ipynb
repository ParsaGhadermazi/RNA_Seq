{
 "cells": [
  {
   "cell_type": "code",
   "execution_count": 216,
   "id": "5a8fbaac",
   "metadata": {},
   "outputs": [],
   "source": [
    "import pandas as pd"
   ]
  },
  {
   "cell_type": "code",
   "execution_count": 217,
   "id": "c3a064eb",
   "metadata": {},
   "outputs": [],
   "source": [
    "sra_table=pd.read_table(\"SRA_Metadata.txt\",delimiter=\",\")"
   ]
  },
  {
   "cell_type": "code",
   "execution_count": 218,
   "id": "c4d3a510",
   "metadata": {},
   "outputs": [],
   "source": [
    "metadata=pd.DataFrame(columns=[\"Read 1\",\"Read 2\",\"Name\",\"Sample_Name\",\"Time\",\"Replicate\"])"
   ]
  },
  {
   "cell_type": "code",
   "execution_count": 219,
   "id": "027d5079",
   "metadata": {},
   "outputs": [],
   "source": [
    "metadata[\"Name\"]=[\"SC0\"+str(i+1) for i in range(sra_table.shape[0])]\n",
    "metadata[\"Sample_Name\"]=pd.Series([\"0\"+str(i) for i in range(sra_table.shape[0])])+\"_\"+sra_table[\"Sample Name\"].str.upper().str.replace(\"-\",\"_\")"
   ]
  },
  {
   "cell_type": "code",
   "execution_count": 220,
   "id": "20b9d81f",
   "metadata": {},
   "outputs": [],
   "source": [
    "metadata[\"Replicate\"]=[rep for _,sample,rep in metadata[\"Sample_Name\"].str.split(\"_\")]"
   ]
  },
  {
   "cell_type": "code",
   "execution_count": 221,
   "id": "ce97ed6c",
   "metadata": {},
   "outputs": [],
   "source": [
    "metadata[\"Time\"]=sra_table[\"Sample Name\"].str.extract('(\\d+)')"
   ]
  },
  {
   "cell_type": "code",
   "execution_count": 222,
   "id": "7675daad",
   "metadata": {},
   "outputs": [],
   "source": [
    "metadata[\"Read 1\"],metadata[\"Read 2\"]=[sra_table['Run']+\"_1.fastq\",sra_table['Run']+\"_2.fastq\"]\n",
    "metadata.set_index(\"Read 1\", inplace=True)"
   ]
  },
  {
   "cell_type": "code",
   "execution_count": 225,
   "id": "f1dc1736",
   "metadata": {},
   "outputs": [],
   "source": [
    "metadata.to_csv(\"metadata.txt\",sep=\"\\t\",header=False)"
   ]
  },
  {
   "cell_type": "code",
   "execution_count": 224,
   "id": "b77ff442",
   "metadata": {},
   "outputs": [
    {
     "data": {
      "text/html": [
       "<div>\n",
       "<style scoped>\n",
       "    .dataframe tbody tr th:only-of-type {\n",
       "        vertical-align: middle;\n",
       "    }\n",
       "\n",
       "    .dataframe tbody tr th {\n",
       "        vertical-align: top;\n",
       "    }\n",
       "\n",
       "    .dataframe thead th {\n",
       "        text-align: right;\n",
       "    }\n",
       "</style>\n",
       "<table border=\"1\" class=\"dataframe\">\n",
       "  <thead>\n",
       "    <tr style=\"text-align: right;\">\n",
       "      <th></th>\n",
       "      <th>Read 2</th>\n",
       "      <th>Name</th>\n",
       "      <th>Sample_Name</th>\n",
       "      <th>Time</th>\n",
       "      <th>Replicate</th>\n",
       "    </tr>\n",
       "    <tr>\n",
       "      <th>Read 1</th>\n",
       "      <th></th>\n",
       "      <th></th>\n",
       "      <th></th>\n",
       "      <th></th>\n",
       "      <th></th>\n",
       "    </tr>\n",
       "  </thead>\n",
       "  <tbody>\n",
       "    <tr>\n",
       "      <th>SRR3567551_1.fastq</th>\n",
       "      <td>SRR3567551_2.fastq</td>\n",
       "      <td>SC01</td>\n",
       "      <td>00_CK45_1</td>\n",
       "      <td>45</td>\n",
       "      <td>1</td>\n",
       "    </tr>\n",
       "    <tr>\n",
       "      <th>SRR3567552_1.fastq</th>\n",
       "      <td>SRR3567552_2.fastq</td>\n",
       "      <td>SC02</td>\n",
       "      <td>01_CK45_2</td>\n",
       "      <td>45</td>\n",
       "      <td>2</td>\n",
       "    </tr>\n",
       "    <tr>\n",
       "      <th>SRR3567554_1.fastq</th>\n",
       "      <td>SRR3567554_2.fastq</td>\n",
       "      <td>SC03</td>\n",
       "      <td>02_AC45_1</td>\n",
       "      <td>45</td>\n",
       "      <td>1</td>\n",
       "    </tr>\n",
       "    <tr>\n",
       "      <th>SRR3567555_1.fastq</th>\n",
       "      <td>SRR3567555_2.fastq</td>\n",
       "      <td>SC04</td>\n",
       "      <td>03_AC45_2</td>\n",
       "      <td>45</td>\n",
       "      <td>2</td>\n",
       "    </tr>\n",
       "    <tr>\n",
       "      <th>SRR3567637_1.fastq</th>\n",
       "      <td>SRR3567637_2.fastq</td>\n",
       "      <td>SC05</td>\n",
       "      <td>04_CK120_1</td>\n",
       "      <td>120</td>\n",
       "      <td>1</td>\n",
       "    </tr>\n",
       "    <tr>\n",
       "      <th>SRR3567638_1.fastq</th>\n",
       "      <td>SRR3567638_2.fastq</td>\n",
       "      <td>SC06</td>\n",
       "      <td>05_CK120_2</td>\n",
       "      <td>120</td>\n",
       "      <td>2</td>\n",
       "    </tr>\n",
       "    <tr>\n",
       "      <th>SRR3567639_1.fastq</th>\n",
       "      <td>SRR3567639_2.fastq</td>\n",
       "      <td>SC07</td>\n",
       "      <td>06_AC120_1</td>\n",
       "      <td>120</td>\n",
       "      <td>1</td>\n",
       "    </tr>\n",
       "    <tr>\n",
       "      <th>SRR3567657_1.fastq</th>\n",
       "      <td>SRR3567657_2.fastq</td>\n",
       "      <td>SC08</td>\n",
       "      <td>07_AC120_2</td>\n",
       "      <td>120</td>\n",
       "      <td>2</td>\n",
       "    </tr>\n",
       "    <tr>\n",
       "      <th>SRR3567674_1.fastq</th>\n",
       "      <td>SRR3567674_2.fastq</td>\n",
       "      <td>SC09</td>\n",
       "      <td>08_CK200_1</td>\n",
       "      <td>200</td>\n",
       "      <td>1</td>\n",
       "    </tr>\n",
       "    <tr>\n",
       "      <th>SRR3567676_1.fastq</th>\n",
       "      <td>SRR3567676_2.fastq</td>\n",
       "      <td>SC010</td>\n",
       "      <td>09_CK200_2</td>\n",
       "      <td>200</td>\n",
       "      <td>2</td>\n",
       "    </tr>\n",
       "    <tr>\n",
       "      <th>SRR3567677_1.fastq</th>\n",
       "      <td>SRR3567677_2.fastq</td>\n",
       "      <td>SC011</td>\n",
       "      <td>010_AC200_1</td>\n",
       "      <td>200</td>\n",
       "      <td>1</td>\n",
       "    </tr>\n",
       "    <tr>\n",
       "      <th>SRR3567679_1.fastq</th>\n",
       "      <td>SRR3567679_2.fastq</td>\n",
       "      <td>SC012</td>\n",
       "      <td>011_AC200_2</td>\n",
       "      <td>200</td>\n",
       "      <td>2</td>\n",
       "    </tr>\n",
       "  </tbody>\n",
       "</table>\n",
       "</div>"
      ],
      "text/plain": [
       "                                Read 2   Name  Sample_Name Time Replicate\n",
       "Read 1                                                                   \n",
       "SRR3567551_1.fastq  SRR3567551_2.fastq   SC01    00_CK45_1   45         1\n",
       "SRR3567552_1.fastq  SRR3567552_2.fastq   SC02    01_CK45_2   45         2\n",
       "SRR3567554_1.fastq  SRR3567554_2.fastq   SC03    02_AC45_1   45         1\n",
       "SRR3567555_1.fastq  SRR3567555_2.fastq   SC04    03_AC45_2   45         2\n",
       "SRR3567637_1.fastq  SRR3567637_2.fastq   SC05   04_CK120_1  120         1\n",
       "SRR3567638_1.fastq  SRR3567638_2.fastq   SC06   05_CK120_2  120         2\n",
       "SRR3567639_1.fastq  SRR3567639_2.fastq   SC07   06_AC120_1  120         1\n",
       "SRR3567657_1.fastq  SRR3567657_2.fastq   SC08   07_AC120_2  120         2\n",
       "SRR3567674_1.fastq  SRR3567674_2.fastq   SC09   08_CK200_1  200         1\n",
       "SRR3567676_1.fastq  SRR3567676_2.fastq  SC010   09_CK200_2  200         2\n",
       "SRR3567677_1.fastq  SRR3567677_2.fastq  SC011  010_AC200_1  200         1\n",
       "SRR3567679_1.fastq  SRR3567679_2.fastq  SC012  011_AC200_2  200         2"
      ]
     },
     "execution_count": 224,
     "metadata": {},
     "output_type": "execute_result"
    }
   ],
   "source": [
    "metadata"
   ]
  },
  {
   "cell_type": "code",
   "execution_count": null,
   "id": "9af661ed",
   "metadata": {},
   "outputs": [],
   "source": []
  }
 ],
 "metadata": {
  "kernelspec": {
   "display_name": "Python 3 (ipykernel)",
   "language": "python",
   "name": "python3"
  },
  "language_info": {
   "codemirror_mode": {
    "name": "ipython",
    "version": 3
   },
   "file_extension": ".py",
   "mimetype": "text/x-python",
   "name": "python",
   "nbconvert_exporter": "python",
   "pygments_lexer": "ipython3",
   "version": "3.9.7"
  }
 },
 "nbformat": 4,
 "nbformat_minor": 5
}
